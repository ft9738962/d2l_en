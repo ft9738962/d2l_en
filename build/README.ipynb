{
 "cells": [
  {
   "cell_type": "markdown",
   "metadata": {},
   "source": [
    "# Dive into Deep Learning (D2L Book)\n",
    "\n",
    "[![Build Status](http://ci.d2l.ai/job/d2l-en/job/master/badge/icon)](http://ci.d2l.ai/job/d2l-en/job/master/)\n",
    "\n",
    "[Book website](http://www.d2l.ai/) | [STAT 157 Course at UC Berkeley, Spring 2019](http://courses.d2l.ai/berkeley-stat-157/index.html)\n",
    "\n",
    "\n",
    "## Contribute ([learn how](http://en.diveintodeeplearning.org/chapter_appendix/how-to-contribute.html))\n",
    "\n",
    "This open source book has benefited from pedagogical suggestions, typo corrections, and other improvements from community contributors. Your help is valuable for making the book better for everyone. We will [acknowledge](https://www.d2l.ai/chapter_preface/preface.html#Acknowledgments) each D2L contributor in the book and send a free book (hard copy) to each contributor when it is published. \n",
    "\n",
    "**Dear [D2L contributors](https://github.com/d2l-ai/d2l-en/graphs/contributors), please email your GitHub username, name, and mailing address to d2lbook.en@gmail.com. Thanks.**\n",
    "\n",
    "[Chinese version](https://github.com/d2l-ai/d2l-zh) | [Discuss and report issues](https://discuss.mxnet.io/)\n",
    "\n",
    "\n",
    "## Cite\n",
    "\n",
    "Please use the following bibtex entry to cite this book:"
   ]
  },
  {
   "cell_type": "markdown",
   "metadata": {},
   "source": [
    "```\n",
    "@book{zhang2019dive,\n",
    "    title={Dive into Deep Learning},\n",
    "    author={Aston Zhang and Zachary C. Lipton and Mu Li and Alexander J. Smola},\n",
    "    note={\\url{http://www.d2l.ai}},\n",
    "    year={2019}\n",
    "}\n",
    "```\n"
   ]
  }
 ],
 "metadata": {
  "language_info": {
   "name": "python"
  }
 },
 "nbformat": 4,
 "nbformat_minor": 2
}